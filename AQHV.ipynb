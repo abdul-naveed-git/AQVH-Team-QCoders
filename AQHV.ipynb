{
  "nbformat": 4,
  "nbformat_minor": 0,
  "metadata": {
    "colab": {
      "provenance": []
    },
    "kernelspec": {
      "name": "python3",
      "display_name": "Python 3"
    },
    "language_info": {
      "name": "python"
    }
  },
  "cells": [
    {
      "cell_type": "code",
      "source": [
        "!pip install qiskit\n",
        "!pip install qiskit_ibm_runtime\n",
        "!pip install qiskit qiskit-ibm-provider numpy\n",
        "!pip install qiskit-aer"
      ],
      "metadata": {
        "colab": {
          "base_uri": "https://localhost:8080/"
        },
        "id": "l_e3QphpV3qs",
        "outputId": "1a97f781-d7a9-4bac-8e9a-8de66b59e017"
      },
      "execution_count": 25,
      "outputs": [
        {
          "output_type": "stream",
          "name": "stdout",
          "text": [
            "Requirement already satisfied: qiskit in /usr/local/lib/python3.12/dist-packages (2.1.2)\n",
            "Requirement already satisfied: rustworkx>=0.15.0 in /usr/local/lib/python3.12/dist-packages (from qiskit) (0.17.1)\n",
            "Requirement already satisfied: numpy<3,>=1.17 in /usr/local/lib/python3.12/dist-packages (from qiskit) (2.0.2)\n",
            "Requirement already satisfied: scipy>=1.5 in /usr/local/lib/python3.12/dist-packages (from qiskit) (1.16.1)\n",
            "Requirement already satisfied: dill>=0.3 in /usr/local/lib/python3.12/dist-packages (from qiskit) (0.3.8)\n",
            "Requirement already satisfied: stevedore>=3.0.0 in /usr/local/lib/python3.12/dist-packages (from qiskit) (5.5.0)\n",
            "Requirement already satisfied: typing-extensions in /usr/local/lib/python3.12/dist-packages (from qiskit) (4.15.0)\n",
            "Requirement already satisfied: qiskit_ibm_runtime in /usr/local/lib/python3.12/dist-packages (0.41.1)\n",
            "Requirement already satisfied: requests>=2.19 in /usr/local/lib/python3.12/dist-packages (from qiskit_ibm_runtime) (2.32.4)\n",
            "Requirement already satisfied: requests-ntlm>=1.1.0 in /usr/local/lib/python3.12/dist-packages (from qiskit_ibm_runtime) (1.3.0)\n",
            "Requirement already satisfied: numpy>=1.13 in /usr/local/lib/python3.12/dist-packages (from qiskit_ibm_runtime) (2.0.2)\n",
            "Requirement already satisfied: urllib3>=1.21.1 in /usr/local/lib/python3.12/dist-packages (from qiskit_ibm_runtime) (2.5.0)\n",
            "Requirement already satisfied: python-dateutil>=2.8.0 in /usr/local/lib/python3.12/dist-packages (from qiskit_ibm_runtime) (2.9.0.post0)\n",
            "Requirement already satisfied: ibm-platform-services>=0.22.6 in /usr/local/lib/python3.12/dist-packages (from qiskit_ibm_runtime) (0.68.2)\n",
            "Requirement already satisfied: pydantic>=2.5.0 in /usr/local/lib/python3.12/dist-packages (from qiskit_ibm_runtime) (2.11.7)\n",
            "Requirement already satisfied: qiskit>=1.4.1 in /usr/local/lib/python3.12/dist-packages (from qiskit_ibm_runtime) (2.1.2)\n",
            "Requirement already satisfied: packaging in /usr/local/lib/python3.12/dist-packages (from qiskit_ibm_runtime) (25.0)\n",
            "Requirement already satisfied: ibm_cloud_sdk_core<4.0.0,>=3.24.2 in /usr/local/lib/python3.12/dist-packages (from ibm-platform-services>=0.22.6->qiskit_ibm_runtime) (3.24.2)\n",
            "Requirement already satisfied: annotated-types>=0.6.0 in /usr/local/lib/python3.12/dist-packages (from pydantic>=2.5.0->qiskit_ibm_runtime) (0.7.0)\n",
            "Requirement already satisfied: pydantic-core==2.33.2 in /usr/local/lib/python3.12/dist-packages (from pydantic>=2.5.0->qiskit_ibm_runtime) (2.33.2)\n",
            "Requirement already satisfied: typing-extensions>=4.12.2 in /usr/local/lib/python3.12/dist-packages (from pydantic>=2.5.0->qiskit_ibm_runtime) (4.15.0)\n",
            "Requirement already satisfied: typing-inspection>=0.4.0 in /usr/local/lib/python3.12/dist-packages (from pydantic>=2.5.0->qiskit_ibm_runtime) (0.4.1)\n",
            "Requirement already satisfied: six>=1.5 in /usr/local/lib/python3.12/dist-packages (from python-dateutil>=2.8.0->qiskit_ibm_runtime) (1.17.0)\n",
            "Requirement already satisfied: rustworkx>=0.15.0 in /usr/local/lib/python3.12/dist-packages (from qiskit>=1.4.1->qiskit_ibm_runtime) (0.17.1)\n",
            "Requirement already satisfied: scipy>=1.5 in /usr/local/lib/python3.12/dist-packages (from qiskit>=1.4.1->qiskit_ibm_runtime) (1.16.1)\n",
            "Requirement already satisfied: dill>=0.3 in /usr/local/lib/python3.12/dist-packages (from qiskit>=1.4.1->qiskit_ibm_runtime) (0.3.8)\n",
            "Requirement already satisfied: stevedore>=3.0.0 in /usr/local/lib/python3.12/dist-packages (from qiskit>=1.4.1->qiskit_ibm_runtime) (5.5.0)\n",
            "Requirement already satisfied: charset_normalizer<4,>=2 in /usr/local/lib/python3.12/dist-packages (from requests>=2.19->qiskit_ibm_runtime) (3.4.3)\n",
            "Requirement already satisfied: idna<4,>=2.5 in /usr/local/lib/python3.12/dist-packages (from requests>=2.19->qiskit_ibm_runtime) (3.10)\n",
            "Requirement already satisfied: certifi>=2017.4.17 in /usr/local/lib/python3.12/dist-packages (from requests>=2.19->qiskit_ibm_runtime) (2025.8.3)\n",
            "Requirement already satisfied: cryptography>=1.3 in /usr/local/lib/python3.12/dist-packages (from requests-ntlm>=1.1.0->qiskit_ibm_runtime) (43.0.3)\n",
            "Requirement already satisfied: pyspnego>=0.4.0 in /usr/local/lib/python3.12/dist-packages (from requests-ntlm>=1.1.0->qiskit_ibm_runtime) (0.12.0)\n",
            "Requirement already satisfied: cffi>=1.12 in /usr/local/lib/python3.12/dist-packages (from cryptography>=1.3->requests-ntlm>=1.1.0->qiskit_ibm_runtime) (1.17.1)\n",
            "Requirement already satisfied: PyJWT<3.0.0,>=2.10.1 in /usr/local/lib/python3.12/dist-packages (from ibm_cloud_sdk_core<4.0.0,>=3.24.2->ibm-platform-services>=0.22.6->qiskit_ibm_runtime) (2.10.1)\n",
            "Requirement already satisfied: pycparser in /usr/local/lib/python3.12/dist-packages (from cffi>=1.12->cryptography>=1.3->requests-ntlm>=1.1.0->qiskit_ibm_runtime) (2.22)\n",
            "Requirement already satisfied: qiskit in /usr/local/lib/python3.12/dist-packages (2.1.2)\n",
            "Requirement already satisfied: qiskit-ibm-provider in /usr/local/lib/python3.12/dist-packages (0.11.0)\n",
            "Requirement already satisfied: numpy in /usr/local/lib/python3.12/dist-packages (2.0.2)\n",
            "Requirement already satisfied: rustworkx>=0.15.0 in /usr/local/lib/python3.12/dist-packages (from qiskit) (0.17.1)\n",
            "Requirement already satisfied: scipy>=1.5 in /usr/local/lib/python3.12/dist-packages (from qiskit) (1.16.1)\n",
            "Requirement already satisfied: dill>=0.3 in /usr/local/lib/python3.12/dist-packages (from qiskit) (0.3.8)\n",
            "Requirement already satisfied: stevedore>=3.0.0 in /usr/local/lib/python3.12/dist-packages (from qiskit) (5.5.0)\n",
            "Requirement already satisfied: typing-extensions in /usr/local/lib/python3.12/dist-packages (from qiskit) (4.15.0)\n",
            "Requirement already satisfied: requests>=2.19 in /usr/local/lib/python3.12/dist-packages (from qiskit-ibm-provider) (2.32.4)\n",
            "Requirement already satisfied: requests-ntlm>=1.1.0 in /usr/local/lib/python3.12/dist-packages (from qiskit-ibm-provider) (1.3.0)\n",
            "Requirement already satisfied: urllib3>=1.21.1 in /usr/local/lib/python3.12/dist-packages (from qiskit-ibm-provider) (2.5.0)\n",
            "Requirement already satisfied: python-dateutil>=2.8.0 in /usr/local/lib/python3.12/dist-packages (from qiskit-ibm-provider) (2.9.0.post0)\n",
            "Requirement already satisfied: websocket-client>=1.5.1 in /usr/local/lib/python3.12/dist-packages (from qiskit-ibm-provider) (1.8.0)\n",
            "Requirement already satisfied: websockets>=10.0 in /usr/local/lib/python3.12/dist-packages (from qiskit-ibm-provider) (15.0.1)\n",
            "Requirement already satisfied: six>=1.5 in /usr/local/lib/python3.12/dist-packages (from python-dateutil>=2.8.0->qiskit-ibm-provider) (1.17.0)\n",
            "Requirement already satisfied: charset_normalizer<4,>=2 in /usr/local/lib/python3.12/dist-packages (from requests>=2.19->qiskit-ibm-provider) (3.4.3)\n",
            "Requirement already satisfied: idna<4,>=2.5 in /usr/local/lib/python3.12/dist-packages (from requests>=2.19->qiskit-ibm-provider) (3.10)\n",
            "Requirement already satisfied: certifi>=2017.4.17 in /usr/local/lib/python3.12/dist-packages (from requests>=2.19->qiskit-ibm-provider) (2025.8.3)\n",
            "Requirement already satisfied: cryptography>=1.3 in /usr/local/lib/python3.12/dist-packages (from requests-ntlm>=1.1.0->qiskit-ibm-provider) (43.0.3)\n",
            "Requirement already satisfied: pyspnego>=0.4.0 in /usr/local/lib/python3.12/dist-packages (from requests-ntlm>=1.1.0->qiskit-ibm-provider) (0.12.0)\n",
            "Requirement already satisfied: cffi>=1.12 in /usr/local/lib/python3.12/dist-packages (from cryptography>=1.3->requests-ntlm>=1.1.0->qiskit-ibm-provider) (1.17.1)\n",
            "Requirement already satisfied: pycparser in /usr/local/lib/python3.12/dist-packages (from cffi>=1.12->cryptography>=1.3->requests-ntlm>=1.1.0->qiskit-ibm-provider) (2.22)\n",
            "Requirement already satisfied: qiskit-aer in /usr/local/lib/python3.12/dist-packages (0.17.1)\n",
            "Requirement already satisfied: qiskit>=1.1.0 in /usr/local/lib/python3.12/dist-packages (from qiskit-aer) (2.1.2)\n",
            "Requirement already satisfied: numpy>=1.16.3 in /usr/local/lib/python3.12/dist-packages (from qiskit-aer) (2.0.2)\n",
            "Requirement already satisfied: scipy>=1.0 in /usr/local/lib/python3.12/dist-packages (from qiskit-aer) (1.16.1)\n",
            "Requirement already satisfied: psutil>=5 in /usr/local/lib/python3.12/dist-packages (from qiskit-aer) (5.9.5)\n",
            "Requirement already satisfied: python-dateutil>=2.8.0 in /usr/local/lib/python3.12/dist-packages (from qiskit-aer) (2.9.0.post0)\n",
            "Requirement already satisfied: six>=1.5 in /usr/local/lib/python3.12/dist-packages (from python-dateutil>=2.8.0->qiskit-aer) (1.17.0)\n",
            "Requirement already satisfied: rustworkx>=0.15.0 in /usr/local/lib/python3.12/dist-packages (from qiskit>=1.1.0->qiskit-aer) (0.17.1)\n",
            "Requirement already satisfied: dill>=0.3 in /usr/local/lib/python3.12/dist-packages (from qiskit>=1.1.0->qiskit-aer) (0.3.8)\n",
            "Requirement already satisfied: stevedore>=3.0.0 in /usr/local/lib/python3.12/dist-packages (from qiskit>=1.1.0->qiskit-aer) (5.5.0)\n",
            "Requirement already satisfied: typing-extensions in /usr/local/lib/python3.12/dist-packages (from qiskit>=1.1.0->qiskit-aer) (4.15.0)\n"
          ]
        }
      ]
    },
    {
      "cell_type": "code",
      "execution_count": 27,
      "metadata": {
        "colab": {
          "base_uri": "https://localhost:8080/"
        },
        "id": "1WUXL8RAVrAF",
        "outputId": "c0bef930-3e9c-4273-f349-f13dc6a71ce5"
      },
      "outputs": [
        {
          "output_type": "stream",
          "name": "stderr",
          "text": [
            "ERROR:stevedore.extension:Could not load 'ibm_backend': cannot import name 'ProviderV1' from 'qiskit.providers' (/usr/local/lib/python3.12/dist-packages/qiskit/providers/__init__.py)\n",
            "ERROR:stevedore.extension:Could not load 'ibm_dynamic_circuits': cannot import name 'ProviderV1' from 'qiskit.providers' (/usr/local/lib/python3.12/dist-packages/qiskit/providers/__init__.py)\n",
            "ERROR:stevedore.extension:Could not load 'ibm_backend': cannot import name 'ProviderV1' from 'qiskit.providers' (/usr/local/lib/python3.12/dist-packages/qiskit/providers/__init__.py)\n",
            "ERROR:stevedore.extension:Could not load 'ibm_dynamic_circuits': cannot import name 'ProviderV1' from 'qiskit.providers' (/usr/local/lib/python3.12/dist-packages/qiskit/providers/__init__.py)\n"
          ]
        },
        {
          "output_type": "stream",
          "name": "stdout",
          "text": [
            "Alice bits:    [0 1 0 0 0 1 0 0]\n",
            "Alice bases:   [0 1 0 0 0 0 1 0]\n",
            "Bob bases:     [1 1 1 0 1 0 1 1]\n",
            "Bob results:   [1, 1, 1, 0, 1, 1, 0, 1]\n",
            "Alice key:     [np.int64(1), np.int64(0), np.int64(1), np.int64(0)]\n",
            "Bob key:       [1, 0, 1, 0]\n"
          ]
        }
      ],
      "source": [
        "from qiskit import QuantumCircuit, transpile, transpile\n",
        "from qiskit_aer import Aer\n",
        "\n",
        "\n",
        "def encode_message(bits, bases):\n",
        "    circuits = []\n",
        "    for bit, basis in zip(bits, bases):\n",
        "        qc = QuantumCircuit(1, 1)\n",
        "        if basis == 0:  # Z basis\n",
        "            if bit == 1:\n",
        "                qc.x(0)\n",
        "        else:  # X basis\n",
        "            if bit == 0:\n",
        "                qc.h(0)\n",
        "            else:\n",
        "                qc.x(0)\n",
        "                qc.h(0)\n",
        "        circuits.append(qc)\n",
        "    return circuits\n",
        "\n",
        "def measure_message(circuits, bases):\n",
        "    measured_circuits = []\n",
        "    for qc, basis in zip(circuits, bases):\n",
        "        measured_qc = qc.copy()\n",
        "        if basis == 1:  # X basis → apply H before measurement\n",
        "            measured_qc.h(0)\n",
        "        measured_qc.measure(0, 0)\n",
        "        measured_circuits.append(measured_qc)\n",
        "    return measured_circuits\n",
        "\n",
        "def remove_garbage(a_bases, b_bases, bits):\n",
        "    return [bit for i, bit in enumerate(bits) if a_bases[i] == b_bases[i]]\n",
        "\n",
        "def bb84_protocol(n_bits=8, seed=0):\n",
        "    np.random.seed(seed)\n",
        "\n",
        "    # Alice's random bits & bases\n",
        "    alice_bits = np.random.randint(2, size=n_bits)\n",
        "    alice_bases = np.random.randint(2, size=n_bits)\n",
        "\n",
        "    # Bob's random bases\n",
        "    bob_bases = np.random.randint(2, size=n_bits)\n",
        "\n",
        "    # Encode + measure\n",
        "    message = encode_message(alice_bits, alice_bases)\n",
        "    bob_circuits = measure_message(message, bob_bases)\n",
        "\n",
        "    # Run on local simulator\n",
        "    backend = Aer.get_backend(\"qasm_simulator\")\n",
        "    transpiled = transpile(bob_circuits, backend)\n",
        "    job = backend.run(transpiled, shots=1)\n",
        "\n",
        "    results = job.result()\n",
        "    bob_results = []\n",
        "    for i in range(n_bits):\n",
        "        counts = results.get_counts(i)\n",
        "        outcome = list(counts.keys())[0]  # only one shot\n",
        "        bob_results.append(int(outcome))\n",
        "\n",
        "    # Sifted keys\n",
        "    alice_key = remove_garbage(alice_bases, bob_bases, alice_bits)\n",
        "    bob_key   = remove_garbage(alice_bases, bob_bases, bob_results)\n",
        "\n",
        "    return {\n",
        "        \"alice_bits\": alice_bits,\n",
        "        \"alice_bases\": alice_bases,\n",
        "        \"bob_bases\": bob_bases,\n",
        "        \"bob_results\": bob_results,\n",
        "        \"alice_key\": alice_key,\n",
        "        \"bob_key\": bob_key\n",
        "    }\n",
        "\n",
        "# Example run\n",
        "if __name__ == \"__main__\":\n",
        "    results = bb84_protocol(n_bits=8, seed=42)\n",
        "    print(\"Alice bits:   \", results['alice_bits'])\n",
        "    print(\"Alice bases:  \", results['alice_bases'])\n",
        "    print(\"Bob bases:    \", results['bob_bases'])\n",
        "    print(\"Bob results:  \", results['bob_results'])\n",
        "    print(\"Alice key:    \", results['alice_key'])\n",
        "    print(\"Bob key:      \", results['bob_key'])"
      ]
    }
  ]
}